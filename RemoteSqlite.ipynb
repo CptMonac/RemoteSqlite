{
 "cells": [
  {
   "cell_type": "markdown",
   "metadata": {},
   "source": [
    "# RemoteSqlite"
   ]
  },
  {
   "cell_type": "markdown",
   "metadata": {},
   "source": [
    "RemoteSqlite is a way to easily access a remote Sqlite database and perform queries, including SELECT and INSERT operations\n",
    "\n",
    "The remote database is referenced through a PyFilesystem2 url, such as:\n",
    "\n",
    "- `osfs://path/to/file`\n",
    "- `s3://path/to/file`\n",
    "\n",
    "You can perform `pull` and `push` operations that transfer the database to a local temp directory\n",
    "\n",
    "See below for examples of how to use"
   ]
  },
  {
   "cell_type": "code",
   "execution_count": 2,
   "metadata": {},
   "outputs": [],
   "source": [
    "class RemoteSqlite:\n",
    "    def __init__(self, fspath):\n",
    "        import sqlite3\n",
    "        self.fspath = fspath\n",
    "        self.localpath = self.pull(fspath)\n",
    "        self.con = sqlite3.connect(self.localpath, detect_types=sqlite3.PARSE_DECLTYPES)\n",
    "        self.con.row_factory = sqlite3.Row\n",
    "    def __del__(self):\n",
    "        self.con.close()\n",
    "    def pull(self, fspath):\n",
    "        import fs\n",
    "        remotefs = fs.open_fs(fs.path.dirname(fspath))\n",
    "        tempfs = fs.open_fs('osfs:///tmp')\n",
    "        filename = fs.path.basename(fspath)\n",
    "        fs.copy.copy_file_if_newer(remotefs, filename, tempfs, filename)\n",
    "        return tempfs.getsyspath(filename)\n",
    "    def push(self, fspath):\n",
    "        import fs\n",
    "        remotefs = fs.open_fs(fs.path.dirname(fspath))\n",
    "        tempfs = fs.open_fs('osfs:///tmp')\n",
    "        filename = fs.path.basename(fspath)\n",
    "        fs.copy.copy_file_if_newer(tempfs, filename, remotefs, filename)\n",
    "        return fspath\n",
    "    def get_count(self, tbl_name):\n",
    "        return db.select(f\"\"\"SELECT COUNT(*) FROM `{tbl_name}`\"\"\")[0]['COUNT(*)']\n",
    "    def get_counts(self):\n",
    "        tables = self.select(\"\"\"SELECT tbl_name FROM sqlite_master WHERE type='table'\"\"\")\n",
    "        return [{t['tbl_name']: self.get_count(t['tbl_name'])} for t in tables]\n",
    "    def select(self, select_statement='SELECT * FROM sqlite_master'):\n",
    "        cur = self.con.cursor()\n",
    "        cur.execute(select_statement)\n",
    "        records = [dict(row) for row in cur.fetchall()]\n",
    "        return records\n",
    "    def insert(self, tbl_name, records):\n",
    "        cur = self.con.cursor()\n",
    "        for record in records:\n",
    "            field_names = ','.join([f'\"{k}\"' for k in record.keys()])\n",
    "            placeholders = ','.join(['?' for k in record.keys()])\n",
    "            insert_statement = f'INSERT INTO \"{tbl_name}\" ({field_names}) VALUES ({placeholders})'\n",
    "            values = tuple(record.values())\n",
    "            cur.execute(insert_statement, values)\n",
    "        self.con.commit()"
   ]
  },
  {
   "cell_type": "code",
   "execution_count": 4,
   "metadata": {},
   "outputs": [],
   "source": [
    "db = RemoteSqlite('osfs:///Users/vbalasubramaniam/Downloads/Northwind_large.sqlite')"
   ]
  },
  {
   "cell_type": "code",
   "execution_count": 231,
   "metadata": {},
   "outputs": [
    {
     "data": {
      "text/plain": [
       "[{'Employee': 9},\n",
       " {'Category': 8},\n",
       " {'Customer': 91},\n",
       " {'Shipper': 3},\n",
       " {'Supplier': 29},\n",
       " {'Order': 16818},\n",
       " {'Product': 77},\n",
       " {'OrderDetail': 621883},\n",
       " {'CustomerCustomerDemo': 0},\n",
       " {'CustomerDemographic': 0},\n",
       " {'Region': 4},\n",
       " {'Territory': 53},\n",
       " {'EmployeeTerritory': 49},\n",
       " {'posts': 0},\n",
       " {'posts_data': 2},\n",
       " {'posts_idx': 0},\n",
       " {'posts_content': 0},\n",
       " {'posts_docsize': 0},\n",
       " {'posts_config': 1},\n",
       " {'order_search': 16818},\n",
       " {'order_search_data': 226},\n",
       " {'order_search_idx': 474},\n",
       " {'order_search_content': 16818},\n",
       " {'order_search_docsize': 16818},\n",
       " {'order_search_config': 1},\n",
       " {'test': 0},\n",
       " {'sqlite_sequence': 0}]"
      ]
     },
     "execution_count": 231,
     "metadata": {},
     "output_type": "execute_result"
    }
   ],
   "source": [
    "db.get_counts()"
   ]
  },
  {
   "cell_type": "code",
   "execution_count": 226,
   "metadata": {},
   "outputs": [
    {
     "data": {
      "text/plain": [
       "[{'Id': 1, 'CompanyName': 'Speedy Express', 'Phone': '(503) 555-9831'},\n",
       " {'Id': 2, 'CompanyName': 'United Package', 'Phone': '(503) 555-3199'},\n",
       " {'Id': 3, 'CompanyName': 'Federal Shipping', 'Phone': '(503) 555-9931'}]"
      ]
     },
     "execution_count": 226,
     "metadata": {},
     "output_type": "execute_result"
    }
   ],
   "source": [
    "db.select(\"\"\"SELECT * FROM Shipper\"\"\")\n"
   ]
  },
  {
   "cell_type": "code",
   "execution_count": 227,
   "metadata": {},
   "outputs": [],
   "source": [
    "new_records = [{'Id': 4, 'CompanyName': 'Speedy Express', 'Phone': '(503) 555-9831'},\n",
    " {'Id': 5, 'CompanyName': 'United Package', 'Phone': '(503) 555-3199'},\n",
    " {'Id': 6, 'CompanyName': 'Federal Shipping', 'Phone': '(503) 555-9931'}]"
   ]
  },
  {
   "cell_type": "code",
   "execution_count": 197,
   "metadata": {},
   "outputs": [
    {
     "data": {
      "text/plain": [
       "[{'Id': 4, 'CompanyName': 'Speedy Express', 'Phone': '(503) 555-9831'},\n",
       " {'Id': 5, 'CompanyName': 'United Package', 'Phone': '(503) 555-3199'},\n",
       " {'Id': 6, 'CompanyName': 'Federal Shipping', 'Phone': '(503) 555-9931'}]"
      ]
     },
     "execution_count": 197,
     "metadata": {},
     "output_type": "execute_result"
    }
   ],
   "source": [
    "new_records"
   ]
  },
  {
   "cell_type": "code",
   "execution_count": 223,
   "metadata": {},
   "outputs": [
    {
     "name": "stdout",
     "output_type": "stream",
     "text": [
      "INSERT INTO \"Shipper\" (\"Id\",\"CompanyName\",\"Phone\") VALUES (?,?,?)\n",
      "(4, 'Speedy Express', '(503) 555-9831')\n",
      "INSERT INTO \"Shipper\" (\"Id\",\"CompanyName\",\"Phone\") VALUES (?,?,?)\n",
      "(5, 'United Package', '(503) 555-3199')\n",
      "INSERT INTO \"Shipper\" (\"Id\",\"CompanyName\",\"Phone\") VALUES (?,?,?)\n",
      "(6, 'Federal Shipping', '(503) 555-9931')\n"
     ]
    }
   ],
   "source": [
    "db.insert('Shipper', new_records)"
   ]
  },
  {
   "cell_type": "code",
   "execution_count": 225,
   "metadata": {},
   "outputs": [
    {
     "data": {
      "text/plain": [
       "<sqlite3.Cursor at 0x10bd0f960>"
      ]
     },
     "execution_count": 225,
     "metadata": {},
     "output_type": "execute_result"
    }
   ],
   "source": [
    "db.con.execute('DELETE FROM Shipper WHERE Id >3')"
   ]
  },
  {
   "cell_type": "code",
   "execution_count": 238,
   "metadata": {},
   "outputs": [],
   "source": [
    "create_statement = \"\"\"CREATE TABLE test (\n",
    "  id INTEGER PRIMARY KEY AUTOINCREMENT,\n",
    "  name TEXT,\n",
    "  t TIMESTAMP DEFAULT CURRENT_TIMESTAMP\n",
    ")\"\"\""
   ]
  },
  {
   "cell_type": "code",
   "execution_count": 239,
   "metadata": {},
   "outputs": [
    {
     "data": {
      "text/plain": [
       "<sqlite3.Cursor at 0x10bd0f6c0>"
      ]
     },
     "execution_count": 239,
     "metadata": {},
     "output_type": "execute_result"
    }
   ],
   "source": [
    "db.con.execute(create_statement)"
   ]
  },
  {
   "cell_type": "code",
   "execution_count": 240,
   "metadata": {},
   "outputs": [
    {
     "name": "stdout",
     "output_type": "stream",
     "text": [
      "INSERT INTO \"test\" (\"name\") VALUES (?)\n",
      "('John',)\n",
      "INSERT INTO \"test\" (\"name\") VALUES (?)\n",
      "('Matt',)\n"
     ]
    }
   ],
   "source": [
    "db.insert('test', [{'name': 'John'},{'name':'Matt'}])"
   ]
  },
  {
   "cell_type": "code",
   "execution_count": 241,
   "metadata": {},
   "outputs": [
    {
     "data": {
      "text/plain": [
       "[{'id': 1, 'name': 'John', 't': datetime.datetime(2020, 3, 5, 14, 29, 15)},\n",
       " {'id': 2, 'name': 'Matt', 't': datetime.datetime(2020, 3, 5, 14, 29, 15)}]"
      ]
     },
     "execution_count": 241,
     "metadata": {},
     "output_type": "execute_result"
    }
   ],
   "source": [
    "db.select('SELECT * FROM test')"
   ]
  },
  {
   "cell_type": "code",
   "execution_count": 237,
   "metadata": {},
   "outputs": [
    {
     "data": {
      "text/plain": [
       "<sqlite3.Cursor at 0x10bd0f110>"
      ]
     },
     "execution_count": 237,
     "metadata": {},
     "output_type": "execute_result"
    }
   ],
   "source": [
    "db.con.execute('DROP TABLE test')"
   ]
  },
  {
   "cell_type": "code",
   "execution_count": null,
   "metadata": {},
   "outputs": [],
   "source": []
  }
 ],
 "metadata": {
  "kernelspec": {
   "display_name": "Python 3",
   "language": "python",
   "name": "python3"
  },
  "language_info": {
   "codemirror_mode": {
    "name": "ipython",
    "version": 3
   },
   "file_extension": ".py",
   "mimetype": "text/x-python",
   "name": "python",
   "nbconvert_exporter": "python",
   "pygments_lexer": "ipython3",
   "version": "3.7.1"
  }
 },
 "nbformat": 4,
 "nbformat_minor": 2
}
