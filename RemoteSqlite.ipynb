{
 "cells": [
  {
   "cell_type": "markdown",
   "metadata": {},
   "source": [
    "# RemoteSqlite"
   ]
  },
  {
   "cell_type": "markdown",
   "metadata": {},
   "source": [
    "RemoteSqlite is a way to easily access a remote Sqlite database and perform queries, including SELECT and INSERT operations\n",
    "\n",
    "The remote database is referenced through a [PyFilesystem2](https://docs.pyfilesystem.org/en/latest/) url, such as:\n",
    "\n",
    "- `osfs://path/to/file`\n",
    "- `s3://path/to/file`\n",
    "\n",
    "You can perform `pull` and `push` operations that transfer the database to a local temp directory\n",
    "\n",
    "See below for examples of how to use"
   ]
  },
  {
   "cell_type": "code",
   "execution_count": 1,
   "metadata": {},
   "outputs": [
    {
     "data": {
      "text/plain": [
       "[{'Employee': 9},\n",
       " {'Category': 8},\n",
       " {'Customer': 91},\n",
       " {'Shipper': 3},\n",
       " {'Supplier': 29},\n",
       " {'Order': 16818},\n",
       " {'Product': 77},\n",
       " {'OrderDetail': 621883},\n",
       " {'CustomerCustomerDemo': 0},\n",
       " {'CustomerDemographic': 0},\n",
       " {'Region': 4},\n",
       " {'Territory': 53},\n",
       " {'EmployeeTerritory': 49},\n",
       " {'posts': 0},\n",
       " {'posts_data': 2},\n",
       " {'posts_idx': 0},\n",
       " {'posts_content': 0},\n",
       " {'posts_docsize': 0},\n",
       " {'posts_config': 1},\n",
       " {'order_search': 16818},\n",
       " {'order_search_data': 226},\n",
       " {'order_search_idx': 474},\n",
       " {'order_search_content': 16818},\n",
       " {'order_search_docsize': 16818},\n",
       " {'order_search_config': 1}]"
      ]
     },
     "execution_count": 1,
     "metadata": {},
     "output_type": "execute_result"
    }
   ],
   "source": [
    "from remote_sqlite import RemoteSqlite\n",
    "db = RemoteSqlite('osfs:///Users/vbalasubramaniam/Downloads/Northwind_large.sqlite', always_download=True)\n",
    "db.get_counts()"
   ]
  },
  {
   "cell_type": "code",
   "execution_count": 2,
   "metadata": {},
   "outputs": [
    {
     "data": {
      "text/plain": [
       "[{'Id': 1, 'CompanyName': 'Speedy Express', 'Phone': '(503) 555-9831'},\n",
       " {'Id': 2, 'CompanyName': 'United Package', 'Phone': '(503) 555-3199'},\n",
       " {'Id': 3, 'CompanyName': 'Federal Shipping', 'Phone': '(503) 555-9931'}]"
      ]
     },
     "execution_count": 2,
     "metadata": {},
     "output_type": "execute_result"
    }
   ],
   "source": [
    "db.select(\"\"\"SELECT * FROM Shipper\"\"\")"
   ]
  },
  {
   "cell_type": "code",
   "execution_count": 3,
   "metadata": {},
   "outputs": [],
   "source": [
    "new_records = [{'Id': 4, 'CompanyName': 'Speedy Express', 'Phone': '(503) 555-9831'},\n",
    " {'Id': 5, 'CompanyName': 'United Package', 'Phone': '(503) 555-3199'},\n",
    " {'Id': 6, 'CompanyName': 'Federal Shipping', 'Phone': '(503) 555-9931'}]"
   ]
  },
  {
   "cell_type": "code",
   "execution_count": 4,
   "metadata": {},
   "outputs": [],
   "source": [
    "db.insert('Shipper', new_records)"
   ]
  },
  {
   "cell_type": "code",
   "execution_count": 5,
   "metadata": {},
   "outputs": [
    {
     "data": {
      "text/plain": [
       "<sqlite3.Cursor at 0x10535bab0>"
      ]
     },
     "execution_count": 5,
     "metadata": {},
     "output_type": "execute_result"
    }
   ],
   "source": [
    "db.con.execute('DELETE FROM Shipper WHERE Id >3')"
   ]
  },
  {
   "cell_type": "code",
   "execution_count": 6,
   "metadata": {},
   "outputs": [],
   "source": [
    "create_statement = \"\"\"CREATE TABLE test (\n",
    "  id INTEGER PRIMARY KEY AUTOINCREMENT,\n",
    "  name TEXT,\n",
    "  t TIMESTAMP DEFAULT CURRENT_TIMESTAMP\n",
    ")\"\"\""
   ]
  },
  {
   "cell_type": "code",
   "execution_count": 7,
   "metadata": {},
   "outputs": [
    {
     "data": {
      "text/plain": [
       "<sqlite3.Cursor at 0x1053a43b0>"
      ]
     },
     "execution_count": 7,
     "metadata": {},
     "output_type": "execute_result"
    }
   ],
   "source": [
    "db.con.execute(create_statement)"
   ]
  },
  {
   "cell_type": "code",
   "execution_count": 8,
   "metadata": {},
   "outputs": [],
   "source": [
    "db.insert('test', [{'name': 'John'},{'name':'Matt'}])"
   ]
  },
  {
   "cell_type": "code",
   "execution_count": 9,
   "metadata": {},
   "outputs": [
    {
     "data": {
      "text/plain": [
       "[{'id': 1, 'name': 'John', 't': datetime.datetime(2020, 3, 7, 22, 12, 45)},\n",
       " {'id': 2, 'name': 'Matt', 't': datetime.datetime(2020, 3, 7, 22, 12, 45)}]"
      ]
     },
     "execution_count": 9,
     "metadata": {},
     "output_type": "execute_result"
    }
   ],
   "source": [
    "db.select('SELECT * FROM test')"
   ]
  },
  {
   "cell_type": "code",
   "execution_count": 10,
   "metadata": {},
   "outputs": [
    {
     "data": {
      "text/plain": [
       "<sqlite3.Cursor at 0x1053a42d0>"
      ]
     },
     "execution_count": 10,
     "metadata": {},
     "output_type": "execute_result"
    }
   ],
   "source": [
    "db.con.execute('DROP TABLE test')"
   ]
  },
  {
   "cell_type": "code",
   "execution_count": 11,
   "metadata": {},
   "outputs": [
    {
     "data": {
      "text/plain": [
       "'CREATE TABLE \"Shipper2\" (\"Id\" TEXT, \"CompanyName\" TEXT, \"Phone\" TEXT)'"
      ]
     },
     "execution_count": 11,
     "metadata": {},
     "output_type": "execute_result"
    }
   ],
   "source": [
    "db.generate_create_table('Shipper2', [{'Id': 1, 'CompanyName': 'Speedy Express', 'Phone': '(503) 555-9831'},\n",
    " {'Id': 2, 'CompanyName': 'United Package', 'Phone': '(503) 555-3199'},\n",
    " {'Id': 3, 'CompanyName': 'Federal Shipping', 'Phone': '(503) 555-9931'}])"
   ]
  },
  {
   "cell_type": "code",
   "execution_count": 12,
   "metadata": {},
   "outputs": [
    {
     "data": {
      "text/plain": [
       "<sqlite3.Cursor at 0x1053a4340>"
      ]
     },
     "execution_count": 12,
     "metadata": {},
     "output_type": "execute_result"
    }
   ],
   "source": [
    "db.con.execute('CREATE TABLE \"Shipper2\" (\"Id\" TEXT, \"CompanyName\" TEXT, \"Phone\" TEXT)')"
   ]
  },
  {
   "cell_type": "code",
   "execution_count": 13,
   "metadata": {},
   "outputs": [],
   "source": [
    "db.insert('Shipper2', [{'Id': 1, 'CompanyName': 'Speedy Express', 'Phone': '(503) 555-9831'},\n",
    " {'Id': 2, 'CompanyName': 'United Package', 'Phone': '(503) 555-3199'},\n",
    " {'Id': 3, 'CompanyName': 'Federal Shipping', 'Phone': '(503) 555-9931'}])"
   ]
  },
  {
   "cell_type": "code",
   "execution_count": 14,
   "metadata": {},
   "outputs": [
    {
     "data": {
      "text/plain": [
       "[{'Id': '1', 'CompanyName': 'Speedy Express', 'Phone': '(503) 555-9831'},\n",
       " {'Id': '2', 'CompanyName': 'United Package', 'Phone': '(503) 555-3199'},\n",
       " {'Id': '3', 'CompanyName': 'Federal Shipping', 'Phone': '(503) 555-9931'}]"
      ]
     },
     "execution_count": 14,
     "metadata": {},
     "output_type": "execute_result"
    }
   ],
   "source": [
    "db.select('SELECT * FROM Shipper2')"
   ]
  },
  {
   "cell_type": "code",
   "execution_count": null,
   "metadata": {},
   "outputs": [],
   "source": []
  }
 ],
 "metadata": {
  "kernelspec": {
   "display_name": "Python 3",
   "language": "python",
   "name": "python3"
  },
  "language_info": {
   "codemirror_mode": {
    "name": "ipython",
    "version": 3
   },
   "file_extension": ".py",
   "mimetype": "text/x-python",
   "name": "python",
   "nbconvert_exporter": "python",
   "pygments_lexer": "ipython3",
   "version": "3.7.1"
  }
 },
 "nbformat": 4,
 "nbformat_minor": 2
}
